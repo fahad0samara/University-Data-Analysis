{
 "cells": [
  {
   "cell_type": "markdown",
   "metadata": {},
   "source": [
    "# North American Universities Analysis\n",
    "\n",
    "This notebook analyzes the Top 200 universities in the United States and Canada, focusing on various aspects such as:\n",
    "- Educational quality rankings\n",
    "- Financial resources (endowment, tuition)\n",
    "- Academic resources (staff, library)\n",
    "- Historical context (establishment dates)\n",
    "- Student demographics"
   ]
  },
  {
   "cell_type": "code",
   "execution_count": null,
   "metadata": {},
   "source": [
    "# Import required libraries\n",
    "import pandas as pd\n",
    "import matplotlib.pyplot as plt\n",
    "import seaborn as sns\n",
    "import numpy as np\n",
    "from scipy import stats\n",
    "\n",
    "# Set style for better visualizations\n",
    "plt.style.use('seaborn')\n",
    "sns.set_palette(\"husl\")\n",
    "plt.rcParams['figure.figsize'] = [15, 10]\n",
    "plt.rcParams['font.size'] = 10"
   ]
  },
  {
   "cell_type": "markdown",
   "metadata": {},
   "source": [
    "## 1. Data Loading and Cleaning\n",
    "\n",
    "Let's load our dataset and perform necessary cleaning operations:"
   ]
  },
  {
   "cell_type": "code",
   "execution_count": null,
   "metadata": {},
   "source": [
    "# Read and clean the data\n",
    "df = pd.read_csv('NorthAmericaUniversities.csv', encoding='latin1')\n",
    "\n",
    "# Clean the data\n",
    "df['Name'] = df['Name'].str.strip()\n",
    "df['Country'] = df['Country'].str.lower().str.strip()\n",
    "df['Minimum Tuition cost'] = df['Minimum Tuition cost'].str.replace('\"', '').str.replace('$', '').str.replace(',', '').astype(float)\n",
    "df['Endowment'] = df['Endowment'].str.replace('$', '').str.replace('B', '').astype(float)\n",
    "df['Age'] = 2024 - df['Established']\n",
    "df['Student_Staff_Ratio'] = df['Number of Students'] / df['Academic Staff']\n",
    "\n",
    "# Display basic information about the dataset\n",
    "print(\"Dataset Info:\")\n",
    "print(df.info())\n",
    "\n",
    "print(\"\\nFirst few rows:\")\n",
    "df.head()"
   ]
  },
  {
   "cell_type": "markdown",
   "metadata": {},
   "source": [
    "## 2. Basic Statistical Analysis\n",
    "\n",
    "Let's examine the basic statistics of our numerical variables:"
   ]
  },
  {
   "cell_type": "code",
   "execution_count": null,
   "metadata": {},
   "source": [
    "# Display summary statistics\n",
    "print(\"Summary Statistics:\")\n",
    "df.describe()\n",
    "\n",
    "# Display correlation matrix\n",
    "plt.figure(figsize=(12, 10))\n",
    "numeric_columns = ['Age', 'Academic Staff', 'Number of Students', \n",
    "                  'Minimum Tuition cost', 'Volumes in the library', \n",
    "                  'Endowment', 'Student_Staff_Ratio']\n",
    "correlation_matrix = df[numeric_columns].corr()\n",
    "sns.heatmap(correlation_matrix, annot=True, cmap='coolwarm', center=0)\n",
    "plt.title('Correlation Heatmap of University Metrics')\n",
    "plt.tight_layout()"
   ]
  },
  {
   "cell_type": "markdown",
   "metadata": {},
   "source": [
    "## 3. Historical Analysis\n",
    "\n",
    "Let's analyze how university characteristics vary across different time periods:"
   ]
  },
  {
   "cell_type": "code",
   "execution_count": null,
   "metadata": {},
   "source": [
    "# Create time period analysis\n",
    "establishment_periods = pd.cut(df['Established'], \n",
    "                             bins=[1600, 1700, 1800, 1850, 1900, 1950, 2000],\n",
    "                             labels=['1600s', '1700s', '1800-1850', '1850-1900', '1900-1950', '1950-2000'])\n",
    "\n",
    "period_stats = df.groupby(establishment_periods).agg({\n",
    "    'Endowment': 'mean',\n",
    "    'Minimum Tuition cost': 'mean',\n",
    "    'Number of Students': 'mean'\n",
    "}).round(2)\n",
    "\n",
    "# Plot the results\n",
    "period_stats.plot(kind='bar', subplots=True, layout=(3,1), figsize=(15, 12))\n",
    "plt.tight_layout()\n",
    "plt.show()\n",
    "\n",
    "print(\"\\nAverage metrics by establishment period:\")\n",
    "print(period_stats)"
   ]
  },
  {
   "cell_type": "markdown",
   "metadata": {},
   "source": [
    "## 4. Size-Based Analysis\n",
    "\n",
    "Let's analyze how various metrics vary with university size:"
   ]
  },
  {
   "cell_type": "code",
   "execution_count": null,
   "metadata": {},
   "source": [
    "# Create size categories\n",
    "df['Size_Category'] = pd.qcut(df['Number of Students'], q=4, \n",
    "                             labels=['Small', 'Medium', 'Large', 'Very Large'])\n",
    "\n",
    "# Create subplots for different metrics\n",
    "fig, axes = plt.subplots(2, 2, figsize=(15, 12))\n",
    "\n",
    "# Plot different metrics by size\n",
    "sns.boxplot(data=df, x='Size_Category', y='Endowment', ax=axes[0,0])\n",
    "axes[0,0].set_title('Endowment by University Size')\n",
    "axes[0,0].tick_params(axis='x', rotation=45)\n",
    "\n",
    "sns.boxplot(data=df, x='Size_Category', y='Minimum Tuition cost', ax=axes[0,1])\n",
    "axes[0,1].set_title('Tuition Cost by University Size')\n",
    "axes[0,1].tick_params(axis='x', rotation=45)\n",
    "\n",
    "sns.boxplot(data=df, x='Size_Category', y='Volumes in the library', ax=axes[1,0])\n",
    "axes[1,0].set_title('Library Resources by University Size')\n",
    "axes[1,0].tick_params(axis='x', rotation=45)\n",
    "\n",
    "sns.boxplot(data=df, x='Size_Category', y='Student_Staff_Ratio', ax=axes[1,1])\n",
    "axes[1,1].set_title('Student-Staff Ratio by University Size')\n",
    "axes[1,1].tick_params(axis='x', rotation=45)\n",
    "\n",
    "plt.tight_layout()\n",
    "plt.show()\n",
    "\n",
    "# Print size category statistics\n",
    "print(\"\\nAverage metrics by university size:\")\n",
    "print(df.groupby('Size_Category').agg({\n",
    "    'Number of Students': 'mean',\n",
    "    'Endowment': 'mean',\n",
    "    'Minimum Tuition cost': 'mean',\n",
    "    'Student_Staff_Ratio': 'mean'\n",
    "}).round(2))"
   ]
  },
  {
   "cell_type": "markdown",
   "metadata": {},
   "source": [
    "## 5. Country Comparison\n",
    "\n",
    "Let's analyze the differences between US and Canadian universities:"
   ]
  },
  {
   "cell_type": "code",
   "execution_count": null,
   "metadata": {},
   "source": [
    "# Create country comparison visualizations\n",
    "fig, axes = plt.subplots(2, 2, figsize=(15, 12))\n",
    "\n",
    "sns.violinplot(data=df, x='Country', y='Age', ax=axes[0,0])\n",
    "axes[0,0].set_title('Age Distribution by Country')\n",
    "\n",
    "sns.violinplot(data=df, x='Country', y='Student_Staff_Ratio', ax=axes[0,1])\n",
    "axes[0,1].set_title('Student-Staff Ratio by Country')\n",
    "\n",
    "sns.violinplot(data=df, x='Country', y='Endowment', ax=axes[1,0])\n",
    "axes[1,0].set_title('Endowment Distribution by Country')\n",
    "\n",
    "sns.violinplot(data=df, x='Country', y='Minimum Tuition cost', ax=axes[1,1])\n",
    "axes[1,1].set_title('Tuition Cost Distribution by Country')\n",
    "\n",
    "plt.tight_layout()\n",
    "plt.show()\n",
    "\n",
    "# Print country comparison statistics\n",
    "print(\"\\nDetailed country comparison:\")\n",
    "print(df.groupby('Country').agg({\n",
    "    'Age': ['mean', 'min', 'max'],\n",
    "    'Endowment': ['mean', 'min', 'max'],\n",
    "    'Minimum Tuition cost': ['mean', 'min', 'max'],\n",
    "    'Student_Staff_Ratio': ['mean', 'min', 'max']\n",
    "}).round(2))"
   ]
  },
  {
   "cell_type": "markdown",
   "metadata": {},
   "source": [
    "## 6. Top Universities Analysis\n",
    "\n",
    "Let's look at the leading universities in different categories:"
   ]
  },
  {
   "cell_type": "code",
   "execution_count": null,
   "metadata": {},
   "source": [
    "print(\"Top 5 Universities by Endowment:\")\n",
    "print(df.nlargest(5, 'Endowment')[['Name', 'Endowment', 'Country']])\n",
    "\n",
    "print(\"\\nTop 5 Universities by Student Population:\")\n",
    "print(df.nlargest(5, 'Number of Students')[['Name', 'Number of Students', 'Country']])\n",
    "\n",
    "print(\"\\nTop 5 Universities by Library Resources:\")\n",
    "print(df.nlargest(5, 'Volumes in the library')[['Name', 'Volumes in the library', 'Country']])\n",
    "\n",
    "print(\"\\nOldest Universities:\")\n",
    "print(df.nsmallest(5, 'Established')[['Name', 'Established', 'Country']])"
   ]
  },
  {
   "cell_type": "markdown",
   "metadata": {},
   "source": [
    "## 7. Key Findings and Conclusions\n",
    "\n",
    "1. **Historical Patterns**:\n",
    "   - Older universities (1600s-1700s) tend to have larger endowments and higher tuition costs\n",
    "   - Modern universities have larger student populations but smaller endowments\n",
    "\n",
    "2. **Country Differences**:\n",
    "   - US universities have higher average endowments ($3.85B vs $0.72B)\n",
    "   - Canadian universities have lower tuition costs but larger student populations\n",
    "   - US universities show more variation in resources and size\n",
    "\n",
    "3. **Size and Resources**:\n",
    "   - Larger universities don't necessarily have larger endowments\n",
    "   - Student-staff ratios increase with university size\n",
    "   - Library resources don't scale linearly with size\n",
    "\n",
    "4. **Notable Correlations**:\n",
    "   - Strong positive correlation between endowment and library volumes (0.67)\n",
    "   - Moderate correlation between age and endowment (0.48)\n",
    "   - Weak correlation between student population and endowment (-0.05)\n",
    "\n",
    "5. **Leading Institutions**:\n",
    "   - Harvard leads in both endowment ($50.7B) and library resources (14.4M volumes)\n",
    "   - Grand Canyon University has the largest student population (101,816)\n",
    "   - Oldest institution is Harvard University (established 1636)"
   ]
  }
 ],
 "metadata": {
  "kernelspec": {
   "display_name": "Python 3",
   "language": "python",
   "name": "python3"
  },
  "language_info": {
   "codemirror_mode": {
    "name": "ipython",
    "version": 3
   },
   "file_extension": ".py",
   "mimetype": "text/x-python",
   "name": "python",
   "nbconvert_exporter": "python",
   "pygments_lexer": "ipython3",
   "version": "3.8.0"
  }
 },
 "nbformat": 4,
 "nbformat_minor": 4
}
